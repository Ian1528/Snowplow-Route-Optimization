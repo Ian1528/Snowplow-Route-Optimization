{
 "cells": [
  {
   "cell_type": "markdown",
   "metadata": {},
   "source": [
    "# Toy Problem 2: Grid Outline"
   ]
  },
  {
   "cell_type": "code",
   "execution_count": 47,
   "metadata": {},
   "outputs": [],
   "source": [
    "import networkx as nx\n",
    "import math\n",
    "import pandas as pd\n",
    "import random\n",
    "import osmnx as ox\n",
    "import geopandas as gpd\n",
    "import momepy\n",
    "import matplotlib.pyplot as plt\n",
    "import itertools\n",
    "import numpy as np"
   ]
  },
  {
   "cell_type": "markdown",
   "metadata": {},
   "source": [
    "Create 3x3 grid graph"
   ]
  },
  {
   "cell_type": "code",
   "execution_count": 48,
   "metadata": {},
   "outputs": [],
   "source": [
    "G = nx.grid_2d_graph(4, 4)  # 3x3 grid"
   ]
  },
  {
   "cell_type": "code",
   "execution_count": 49,
   "metadata": {},
   "outputs": [
    {
     "data": {
      "image/png": "[encoded data removed]",
      "text/plain": [
       "<Figure size 800x600 with 1 Axes>"
      ]
     },
     "metadata": {},
     "output_type": "display_data"
    }
   ],
   "source": [
    "\n",
    "\n",
    "node_positions = {(x,y):(x,y) for x,y in G.nodes()}\n",
    "\n",
    "plt.figure(figsize=(8, 6))\n",
    "nx.draw_networkx(G, pos=node_positions, node_size=500, node_color='lightblue', with_labels=True)\n",
    "plt.title('Graph Representation of Town', size=15)\n",
    "plt.show()"
   ]
  },
  {
   "cell_type": "markdown",
   "metadata": {},
   "source": [
    "### Add edge and node attributes"
   ]
  },
  {
   "cell_type": "code",
   "execution_count": 62,
   "metadata": {},
   "outputs": [],
   "source": [
    "# add an attribute called distance to each edge set to 1\n",
    "for u, v, d in G.edges(data=True):\n",
    "    d['distance'] = 1\n",
    "    d['passes_rem'] = 1\n",
    "    d['priority'] = 1\n",
    "    d['salt_per'] = 1\n",
    "    d['deadheading_passes'] = 1"
   ]
  },
  {
   "cell_type": "markdown",
   "metadata": {},
   "source": [
    "Set the effective degree of all nodes. If $v$ is the vertice and $E_v$ is the set of all edges leaving from $v$, then the effective degree is \n",
    "$$\\text{Deg(v)} = \\sum_{e \\in E_v} e(\\text{passes})$$"
   ]
  },
  {
   "cell_type": "code",
   "execution_count": 63,
   "metadata": {},
   "outputs": [
    {
     "name": "stdout",
     "output_type": "stream",
     "text": [
      "((0, 0), {'effective_degree': 2})\n",
      "((0, 1), {'effective_degree': 3})\n",
      "((0, 2), {'effective_degree': 3})\n",
      "((0, 3), {'effective_degree': 2})\n",
      "((1, 0), {'effective_degree': 3})\n",
      "((1, 1), {'effective_degree': 4})\n",
      "((1, 2), {'effective_degree': 4})\n",
      "((1, 3), {'effective_degree': 3})\n",
      "((2, 0), {'effective_degree': 3})\n",
      "((2, 1), {'effective_degree': 4})\n",
      "((2, 2), {'effective_degree': 4})\n",
      "((2, 3), {'effective_degree': 3})\n",
      "((3, 0), {'effective_degree': 2})\n",
      "((3, 1), {'effective_degree': 3})\n",
      "((3, 2), {'effective_degree': 3})\n",
      "((3, 3), {'effective_degree': 2})\n"
     ]
    }
   ],
   "source": [
    "for node in G.nodes:\n",
    "    eff_deg = 0\n",
    "    for edge in G.edges([node], data=True):\n",
    "        eff_deg += edge[2]['passes_rem']\n",
    "    G.nodes[node]['effective_degree'] = eff_deg\n",
    "# print result\n",
    "    \n",
    "for edge in G.edges(data=True):\n",
    "    edge[2]['salt_tot'] = edge[2]['passes_rem']*edge[2]['salt_per']\n",
    "for node in G.nodes(data=True):\n",
    "    print(node)\n"
   ]
  },
  {
   "cell_type": "markdown",
   "metadata": {},
   "source": [
    "## Route Construction"
   ]
  },
  {
   "cell_type": "markdown",
   "metadata": {},
   "source": [
    "Calculate shortest distance between each pair of nodes in the network using\n",
    "Floyd's algorithm and visualize distance matrix"
   ]
  },
  {
   "cell_type": "markdown",
   "metadata": {},
   "source": [
    "Define a cost function for traversing an arc"
   ]
  },
  {
   "cell_type": "code",
   "execution_count": 64,
   "metadata": {},
   "outputs": [],
   "source": [
    "def cost(G, node1, node2):\n",
    "    '''\n",
    "    Returns the cost of traversing an edge between two nodes. Doesn't include priorities yet. \n",
    "    Currently based solely on distance.\n",
    "    '''\n",
    "    edge_data = G.get_edge_data(node1, node2)\n",
    "\n",
    "    cost = edge_data['distance']\n",
    "    return cost"
   ]
  },
  {
   "cell_type": "code",
   "execution_count": 65,
   "metadata": {},
   "outputs": [],
   "source": [
    "def needs_servicing(G, node1, node2):\n",
    "    '''\n",
    "    Returns whether or not the edge between two nodes requires servicing\n",
    "    '''\n",
    "    return G[node1][node2]['passes_rem'] > 0"
   ]
  },
  {
   "cell_type": "markdown",
   "metadata": {},
   "source": [
    "### Start finding a route"
   ]
  },
  {
   "cell_type": "markdown",
   "metadata": {},
   "source": [
    "Check if there are any required arcs remaining departing from the current node"
   ]
  },
  {
   "cell_type": "code",
   "execution_count": 66,
   "metadata": {},
   "outputs": [],
   "source": [
    "def visit_arc(G, arc, route, undirected=True):\n",
    "    global curr_salt\n",
    "    '''\n",
    "    Visits an arc and updates the route and cost. Returns the new node that the arc is on\n",
    "    \n",
    "    Parameters:\n",
    "        G (networkx.Graph): The graph representing the network\n",
    "        arc (tuple): The arc to be visited\n",
    "        route (list): The partial route taken so far (default: partial_route)\n",
    "        c (float): The partial cost incurred so far (default: partial_cost)\n",
    "        undirected (bool): Flag indicating if the graph is undirected (default: True)\n",
    "    \n",
    "    Returns:\n",
    "        int: The new node that the arc is on\n",
    "    '''\n",
    "\n",
    "    # not deadheading. So we service the arc and update the effective degree of the relevant node\n",
    "    # need a check to see if we can actually service the arc given the amount of salt we have left.\n",
    "    salt_required = G[arc[0]][arc[1]]['salt_per']\n",
    "\n",
    "    # needs servicing and we can service it\n",
    "    if needs_servicing(G, arc[0], arc[1]) and curr_salt >= salt_required:\n",
    "        if (undirected):\n",
    "            G.nodes[arc[0]]['effective_degree'] -= 1\n",
    "            G.nodes[arc[1]]['effective_degree'] -= 1\n",
    "        else:\n",
    "            G.nodes[arc[0]]['effective_degree'] -= 1\n",
    "        curr_salt -= salt_required\n",
    "        G[arc[0]][arc[1]]['salt_tot'] -= salt_required    \n",
    "        G[arc[0]][arc[1]]['passes_rem'] -= 1 # mark that we traversed this arc\n",
    "\n",
    "    else:\n",
    "        G[arc[0]][arc[1]]['deadheading_passes'] += 1\n",
    "    route.append((arc[0], arc[1]))\n",
    "    return arc[1]"
   ]
  },
  {
   "cell_type": "code",
   "execution_count": 67,
   "metadata": {},
   "outputs": [],
   "source": [
    "def process_node(G, curr_node):\n",
    "    '''\n",
    "    Returns a list of required arcs that depart from curr_node, as well as the minimum and maximum cost\n",
    "    of all departing arcs\n",
    "    '''\n",
    "    c_min = math.inf\n",
    "    c_max = -math.inf\n",
    "\n",
    "    required = []\n",
    "    for edge in G.edges([curr_node], data=True):\n",
    "        if edge[2][\"passes_rem\"] > 0:\n",
    "            required.append(edge)\n",
    "            c_min = min(cost(G, edge[0], edge[1]), c_min)\n",
    "            c_max = max(cost(G, edge[0], edge[1]), c_max)\n",
    "    return required, c_min, c_max"
   ]
  },
  {
   "cell_type": "code",
   "execution_count": 68,
   "metadata": {},
   "outputs": [],
   "source": [
    "def move_between_nodes(G, node1, node2, route_up_to_now):\n",
    "    '''\n",
    "    Moves between two nodes via the shortest path, updating any required arcs along the way. \n",
    "    Works for non-multigraphs. Requires modification when doing it for multigraphs since floyd_warshall\n",
    "    only returns nodes, not edges in the shortest path.\n",
    "    '''\n",
    "    predecessors, distances = nx.floyd_warshall_predecessor_and_distance(G,weight=\"distance\")\n",
    "    node_path = nx.reconstruct_path(node1, node2, predecessors)\n",
    "    \n",
    "    edges = list()\n",
    "    for i in range(len(node_path)-1):\n",
    "        edges.append((node_path[i], node_path[i+1]))\n",
    "\n",
    "    for edge in edges:\n",
    "        visit_arc(G, edge, route=route_up_to_now)"
   ]
  },
  {
   "cell_type": "code",
   "execution_count": 69,
   "metadata": {},
   "outputs": [],
   "source": [
    "def has_edge_within_capacity(G, node):\n",
    "    global curr_salt\n",
    "    if curr_salt == 0:\n",
    "        return False\n",
    "    for neighbor in G[node]:\n",
    "        if G[node][neighbor]['salt_per'] <= curr_salt:\n",
    "            return True\n",
    "    return False\n",
    "\n",
    "def find_nearest_required(G, node):\n",
    "    '''\n",
    "    Finds the path to the nearest node with a required arc to traverse.\n",
    "    '''\n",
    "    predecessors, distances = nx.floyd_warshall_predecessor_and_distance(G,weight=\"distance\")\n",
    "    # get the 1d numpy array corresponding to the distances from the node to all other nodes\n",
    "    dists = distances[node]\n",
    "\n",
    "    # loop through the dists array and find the nearest required arc\n",
    "    min_dist = math.inf\n",
    "    min_dist_node = None\n",
    "    for n in G.nodes():\n",
    "        if n == node:\n",
    "            continue\n",
    "        if G.nodes[n]['effective_degree'] > 0 and dists[n] < min_dist:\n",
    "            # check that the node has an edge to service within salt capacity\n",
    "            if has_edge_within_capacity(G, n):\n",
    "                min_dist = dists[n]\n",
    "                min_dist_node = n\n",
    "    \n",
    "    if min_dist_node is None:\n",
    "        return None\n",
    "    # reconstruct path\n",
    "    node_path = nx.reconstruct_path(node, min_dist_node, predecessors)\n",
    "    edges = list()\n",
    "    for i in range(len(node_path)-1):\n",
    "        edges.append((node_path[i], node_path[i+1]))\n",
    "\n",
    "    return edges\n",
    "        "
   ]
  },
  {
   "cell_type": "markdown",
   "metadata": {},
   "source": [
    "Initialize RCL and parameter list if there is at least one required arc"
   ]
  },
  {
   "cell_type": "markdown",
   "metadata": {},
   "source": [
    "Add an arc to the RCL if it has a cost in the range \n",
    "$$R = [C_{min}, C_{min} + \\alpha \\cdot (C_{max}-C_{min})]$$\n",
    "\n",
    "Determine C<sub>min</sub> and C<sub>max</sub> by looping through first.\n",
    "\n",
    "A value of alpha close to zero means that we will almost always choose the least cost arc (think greedy), while value close to one means the choice will be virtually random"
   ]
  },
  {
   "cell_type": "markdown",
   "metadata": {},
   "source": [
    "Continue running the route construction algorithm until there are no required nodes in the graph left"
   ]
  },
  {
   "cell_type": "markdown",
   "metadata": {},
   "source": [
    "Run the algorithm on a copy of G so that the original graph is preserved"
   ]
  },
  {
   "cell_type": "code",
   "execution_count": 75,
   "metadata": {},
   "outputs": [],
   "source": [
    "def RCA(G, curr_node, alpha, route):\n",
    "    global curr_salt\n",
    "    while True:\n",
    "        required_arcs, c_min, c_max = process_node(G, curr_node)\n",
    "        rcl = [] # initialize restricted candidate list\n",
    "\n",
    "        for edge in required_arcs:\n",
    "            if cost(G, edge[0], edge[1]) >= c_min and cost(G, edge[0], edge[1]) <= c_min + alpha*(c_max-c_min) and G[edge[0]][edge[1]]['salt_per'] <= curr_salt:\n",
    "                rcl.append(edge)\n",
    "        \n",
    "        # chooes an arc based on restricted candidate list if not empty\n",
    "        if len(rcl) > 0:\n",
    "            chosen_arc = random.choice(rcl)\n",
    "            curr_node = visit_arc(G, chosen_arc, route=route)\n",
    "\n",
    "        # if restricted candidate list is empty, follow path to nearest node with required arc\n",
    "        else:\n",
    "            path = find_nearest_required(G, curr_node)\n",
    "\n",
    "            # no more required arcs in the graph that we can service, so we're done.\n",
    "            # return to the depot and refill salt cap\n",
    "            if path is None:\n",
    "                move_between_nodes(G, curr_node, (0,0), route)\n",
    "                return route\n",
    "            \n",
    "            # otherwise go to the arc to visit\n",
    "            for edge in path:\n",
    "                curr_node = visit_arc(G, edge, route=route)\n",
    "                if curr_node == (0,0):\n",
    "                    return route\n",
    "        # if we're at the depot for any reason, that's the end of a route.\n",
    "        if curr_node == (0,0):\n",
    "            return route"
   ]
  },
  {
   "cell_type": "code",
   "execution_count": 76,
   "metadata": {},
   "outputs": [],
   "source": [
    "def all_serviced(G):\n",
    "    for node in G.nodes():\n",
    "        if G.nodes[node]['effective_degree'] > 0:\n",
    "            return False\n",
    "    return True"
   ]
  },
  {
   "cell_type": "markdown",
   "metadata": {},
   "source": [
    "NOte to self: the number of passes should also influence the amount of salt required to service it. (i.e., after servicing hospital-grocery for 1 salt unit, the rem_salt shouldn't be 0 because we still have to go for one more pass.)\n",
    "\n",
    "Easy fix: create two distinct fields. Salt_per, salt_tot"
   ]
  },
  {
   "cell_type": "code",
   "execution_count": 73,
   "metadata": {},
   "outputs": [],
   "source": [
    "SALT_CAP = 5 # fixed salt cap of the vehicle"
   ]
  },
  {
   "cell_type": "code",
   "execution_count": 81,
   "metadata": {},
   "outputs": [
    {
     "name": "stdout",
     "output_type": "stream",
     "text": [
      "Number of routes:5\n",
      "((0, 0), (0, 1))\n",
      "((0, 1), (0, 2))\n",
      "((0, 2), (1, 2))\n",
      "((1, 2), (1, 1))\n",
      "((1, 1), (0, 1))\n",
      "((0, 1), (0, 0))\n",
      "*****\n",
      "\n",
      "((0, 0), (1, 0))\n",
      "((1, 0), (2, 0))\n",
      "((2, 0), (3, 0))\n",
      "((3, 0), (3, 1))\n",
      "((3, 1), (2, 1))\n",
      "((2, 1), (1, 1))\n",
      "((1, 1), (0, 1))\n",
      "((0, 1), (0, 0))\n",
      "*****\n",
      "\n",
      "((0, 0), (1, 0))\n",
      "((1, 0), (1, 1))\n",
      "((1, 1), (2, 1))\n",
      "((2, 1), (2, 2))\n",
      "((2, 2), (2, 3))\n",
      "((2, 3), (1, 3))\n",
      "((1, 3), (0, 3))\n",
      "((0, 3), (0, 2))\n",
      "((0, 2), (0, 1))\n",
      "((0, 1), (0, 0))\n",
      "*****\n",
      "\n",
      "((0, 0), (0, 1))\n",
      "((0, 1), (0, 2))\n",
      "((0, 2), (0, 3))\n",
      "((0, 3), (1, 3))\n",
      "((1, 3), (1, 2))\n",
      "((1, 2), (2, 2))\n",
      "((2, 2), (3, 2))\n",
      "((3, 2), (2, 2))\n",
      "((2, 2), (1, 2))\n",
      "((1, 2), (0, 2))\n",
      "((0, 2), (0, 1))\n",
      "((0, 1), (0, 0))\n",
      "*****\n",
      "\n",
      "((0, 0), (1, 0))\n",
      "((1, 0), (2, 0))\n",
      "((2, 0), (2, 1))\n",
      "((2, 1), (3, 1))\n",
      "((3, 1), (3, 2))\n",
      "((3, 2), (3, 3))\n",
      "((3, 3), (2, 3))\n",
      "((2, 3), (1, 3))\n",
      "((1, 3), (0, 3))\n",
      "((0, 3), (0, 2))\n",
      "((0, 2), (0, 1))\n",
      "((0, 1), (0, 0))\n",
      "*****\n",
      "\n"
     ]
    }
   ],
   "source": [
    "# define initial conditions\n",
    "curr_node = (0,0) # set starting node to depot\n",
    "alpha = 0.4 # set alpha parameter\n",
    "G_copy = G.copy()\n",
    "curr_salt = SALT_CAP\n",
    "routes = []\n",
    "partial_route = list()\n",
    "\n",
    "while all_serviced(G_copy) == False:\n",
    "    partial_route = RCA(G_copy, curr_node, alpha, partial_route)\n",
    "    routes.append(partial_route)\n",
    "    curr_salt = SALT_CAP\n",
    "    curr_node = (0,0)\n",
    "    partial_route = list()\n",
    "\n",
    "print(\"Number of routes:\" + str(len(routes)))\n",
    "for route in routes:\n",
    "    for edge in route:\n",
    "        print(edge)\n",
    "    \n",
    "    print(\"*****\\n\")\n"
   ]
  },
  {
   "cell_type": "markdown",
   "metadata": {},
   "source": [
    "Note; still problems with this as the route below demonstrates. we haven't fully salted all the roads because I'm allowing half salting. Make a change in visit_arc. consider checking for full service using passes instead of eff_degree to make it easier and remove the number of fields. (its basically redundant to have both)"
   ]
  },
  {
   "cell_type": "code",
   "execution_count": 80,
   "metadata": {},
   "outputs": [
    {
     "data": {
      "image/png": "[encoded data removed]",
      "text/plain": [
       "<Figure size 1000x800 with 1 Axes>"
      ]
     },
     "metadata": {},
     "output_type": "display_data"
    }
   ],
   "source": [
    "def plot_routes(route):\n",
    "    colors = ['blue', 'red', 'green', 'purple', \"orange\", \"brown\", \"pink\", \"yellow\", \"grey\", \"cyan\"]\n",
    "    nx.set_edge_attributes(G,\"\", \"plot_sequence\")\n",
    "\n",
    "    plt.figure(figsize=(10, 8))\n",
    "    nx.draw_networkx(G, pos=node_positions, node_size=10, node_color='black', with_labels=True)\n",
    "\n",
    "    for color, route in enumerate(routes):\n",
    "        visited = []\n",
    "        for i, edge in enumerate(route):\n",
    "            # if we've visited the arc already on this route, add to plot_sequence. otherwise create new\n",
    "            if((edge[0], edge[1]) not in visited and (edge[1], edge[0]) not in visited):\n",
    "                new_plot_sequence = \"\"\n",
    "                for j in range(len(G[edge[0]][edge[1]][\"plot_sequence\"])):\n",
    "                    new_plot_sequence += \"  \"\n",
    "                G[edge[0]][edge[1]]['plot_sequence'] = new_plot_sequence + ' ' + str(i+1)\n",
    "            else:\n",
    "                G[edge[0]][edge[1]]['plot_sequence'] += ' ' + str(i+1)\n",
    "            visited.append(edge)\n",
    "        for edge in route:\n",
    "            x = (node_positions[edge[0]][0] + node_positions[edge[1]][0]) / 2 - .3\n",
    "            y = (node_positions[edge[0]][1] + node_positions[edge[1]][1]) / 2\n",
    "            plt.text(x, y, G[edge[0]][edge[1]][\"plot_sequence\"], color=colors[color], fontsize=12, fontweight = 'bold')\n",
    "    plt.title('Partial Route', size=15)\n",
    "    plt.show()\n",
    "\n",
    "plot_routes(routes)"
   ]
  }
 ],
 "metadata": {
  "kernelspec": {
   "display_name": ".venv",
   "language": "python",
   "name": "python3"
  },
  "language_info": {
   "codemirror_mode": {
    "name": "ipython",
    "version": 3
   },
   "file_extension": ".py",
   "mimetype": "text/x-python",
   "name": "python",
   "nbconvert_exporter": "python",
   "pygments_lexer": "ipython3",
   "version": "3.11.4"
  }
 },
 "nbformat": 4,
 "nbformat_minor": 2
}
