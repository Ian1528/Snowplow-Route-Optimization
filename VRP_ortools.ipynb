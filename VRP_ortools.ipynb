{
 "cells": [
  {
   "cell_type": "markdown",
   "metadata": {},
   "source": [
    "# Vehicle Routing Problem\n",
    "\n",
    "Solving the vehicle routing problem using OR-tools by google. Toy problem to explore optimization tools"
   ]
  },
  {
   "cell_type": "code",
   "execution_count": 15,
   "metadata": {},
   "outputs": [],
   "source": [
    "from ortools.constraint_solver import routing_enums_pb2\n",
    "from ortools.constraint_solver import pywrapcp\n"
   ]
  },
  {
   "cell_type": "markdown",
   "metadata": {},
   "source": [
    "First, I create a distance matrix using an API key"
   ]
  },
  {
   "cell_type": "code",
   "execution_count": 16,
   "metadata": {},
   "outputs": [],
   "source": [
    "import os\n",
    "from dotenv import load_dotenv\n",
    "\n",
    "load_dotenv(\".env\")\n",
    "\n",
    "api_key = os.getenv('DISTANCE_MATRIX')"
   ]
  },
  {
   "cell_type": "code",
   "execution_count": 17,
   "metadata": {},
   "outputs": [
    {
     "name": "stdout",
     "output_type": "stream",
     "text": [
      "[[0, 1115, 3566, 6308, 9852], [995, 0, 3796, 6451, 9995], [3479, 4560, 0, 9213, 12757], [6082, 6219, 9067, 0, 4040], [10237, 10373, 13222, 4309, 0]]\n"
     ]
    }
   ],
   "source": [
    "import requests\n",
    "import json\n",
    "import urllib\n",
    "\n",
    "\n",
    "def create_data():\n",
    "  \"\"\"Creates the data.\"\"\"\n",
    "  data = {}\n",
    "  data['API_key'] = api_key\n",
    "  data['addresses'] = ['7426+Hubbard+Avenue+Middleon+WI+53562', # depot\n",
    "                       '2100+Bristol+St+Middleton+WI+53562', # high school\n",
    "                       '2616+N+Pleasant+View+Rd+Middleton+WI+53562', # ice rink\n",
    "                       '3650+University+Ave+Shorewood+Hills+WI+53705', # grocery store\n",
    "                       '1401+Observatory+Dr+Madison+WI+53706', # UW observatory\n",
    "                      ]\n",
    "  return data\n",
    "\n",
    "def create_distance_matrix(data):\n",
    "  addresses = data[\"addresses\"]\n",
    "  API_key = data[\"API_key\"]\n",
    "  # Distance Matrix API only accepts 100 elements per request, so get rows in multiple requests.\n",
    "  max_elements = 100\n",
    "  num_addresses = len(addresses) # 16 in this example.\n",
    "  # Maximum number of rows that can be computed per request (6 in this example).\n",
    "  max_rows = max_elements // num_addresses\n",
    "  # num_addresses = q * max_rows + r (q = 2 and r = 4 in this example).\n",
    "  q, r = divmod(num_addresses, max_rows)\n",
    "  dest_addresses = addresses\n",
    "  distance_matrix = []\n",
    "  # Send q requests, returning max_rows rows per request.\n",
    "  for i in range(q):\n",
    "    origin_addresses = addresses[i * max_rows: (i + 1) * max_rows]\n",
    "    response = send_request(origin_addresses, dest_addresses, API_key)\n",
    "    distance_matrix += build_distance_matrix(response)\n",
    "\n",
    "  # Get the remaining remaining r rows, if necessary.\n",
    "  if r > 0:\n",
    "    origin_addresses = addresses[q * max_rows: q * max_rows + r]\n",
    "    response = send_request(origin_addresses, dest_addresses, API_key)\n",
    "    distance_matrix += build_distance_matrix(response)\n",
    "  return distance_matrix\n",
    "\n",
    "def send_request(origin_addresses, dest_addresses, API_key):\n",
    "  \"\"\" Build and send request for the given origin and destination addresses.\"\"\"\n",
    "  def build_address_str(addresses):\n",
    "    # Build a pipe-separated string of addresses\n",
    "    address_str = ''\n",
    "    for i in range(len(addresses) - 1):\n",
    "      address_str += addresses[i] + '|'\n",
    "    address_str += addresses[-1]\n",
    "    return address_str\n",
    "\n",
    "  request = 'https://maps.googleapis.com/maps/api/distancematrix/json?units=metric'\n",
    "  origin_address_str = build_address_str(origin_addresses)\n",
    "  dest_address_str = build_address_str(dest_addresses)\n",
    "  request = request + '&origins=' + origin_address_str + '&destinations=' + \\\n",
    "                       dest_address_str + '&key=' + API_key\n",
    "  jsonResult = urllib.request.urlopen(request).read()\n",
    "  response = json.loads(jsonResult)\n",
    "  return response\n",
    "\n",
    "def build_distance_matrix(response):\n",
    "  distance_matrix = []\n",
    "  for row in response['rows']:\n",
    "    row_list = [row['elements'][j]['distance']['value'] for j in range(len(row['elements']))]\n",
    "    distance_matrix.append(row_list)\n",
    "  return distance_matrix\n",
    "\n",
    "# Create the data.\n",
    "data = create_data()\n",
    "addresses = data['addresses']\n",
    "API_key = data['API_key']\n",
    "distance_matrix = create_distance_matrix(data)\n",
    "print(distance_matrix)"
   ]
  },
  {
   "cell_type": "markdown",
   "metadata": {},
   "source": [
    "With this distance matrix, we can now create the data that will be passed to the optimizer"
   ]
  },
  {
   "cell_type": "code",
   "execution_count": 18,
   "metadata": {},
   "outputs": [],
   "source": [
    "def create_data_model(distance_matrix, num_vehicles, depot):\n",
    "    \"\"\"Store the data for the problem\"\"\"\n",
    "    data = {}\n",
    "    data[\"distance_matrix\"] = distance_matrix\n",
    "    data[\"num_vehicles\"] = num_vehicles\n",
    "    data[\"depot\"] = 0\n",
    "\n",
    "    return data\n",
    "\n",
    "data = create_data_model(distance_matrix, 2, 0)"
   ]
  },
  {
   "cell_type": "markdown",
   "metadata": {},
   "source": [
    "Create the index manager and the routing model."
   ]
  },
  {
   "cell_type": "code",
   "execution_count": 19,
   "metadata": {},
   "outputs": [],
   "source": [
    "manager = pywrapcp.RoutingIndexManager(len(data[\"distance_matrix\"]), data[\"num_vehicles\"], data[\"depot\"]) # inputs: number of locations, number of vehicles, starting point\n",
    "\n",
    "routing = pywrapcp.RoutingModel(manager)"
   ]
  },
  {
   "cell_type": "markdown",
   "metadata": {},
   "source": [
    "Create a function that takes any pair of locations and returns the distance between them"
   ]
  },
  {
   "cell_type": "code",
   "execution_count": 20,
   "metadata": {},
   "outputs": [],
   "source": [
    "def distance_callback(from_index, to_index):\n",
    "    \"\"\"Returns the distance between the two nodes.\"\"\"\n",
    "    # Convert from routing variable Index to distance matrix NodeIndex.\n",
    "    from_node = manager.IndexToNode(from_index)\n",
    "    to_node = manager.IndexToNode(to_index)\n",
    "    return data[\"distance_matrix\"][from_node][to_node]\n",
    "\n",
    "transit_callback_index = routing.RegisterTransitCallback(distance_callback)\n"
   ]
  },
  {
   "cell_type": "markdown",
   "metadata": {},
   "source": [
    "Now set the cost of travel, which tells the solver how to caluclate the cost of travel between any two locations"
   ]
  },
  {
   "cell_type": "code",
   "execution_count": 21,
   "metadata": {},
   "outputs": [],
   "source": [
    "routing.SetArcCostEvaluatorOfAllVehicles(transit_callback_index)"
   ]
  },
  {
   "cell_type": "markdown",
   "metadata": {},
   "source": [
    "Create a distance dimension, which computes the cumulative distance traveled by each vehicle. The total cost can be made proportional to the maximum of th etotla distances along each route. This ensures that no one vechicle travels much longer than others."
   ]
  },
  {
   "cell_type": "code",
   "execution_count": 22,
   "metadata": {},
   "outputs": [],
   "source": [
    "dimension_name = \"Distance\"\n",
    "routing.AddDimension(\n",
    "    transit_callback_index,\n",
    "    0,  # no slack\n",
    "    36000,  # vehicle maximum travel distance\n",
    "    True,  # start cumul to zero\n",
    "    dimension_name,\n",
    ")\n",
    "distance_dimension = routing.GetDimensionOrDie(dimension_name)\n",
    "distance_dimension.SetGlobalSpanCostCoefficient(100)\n"
   ]
  },
  {
   "cell_type": "markdown",
   "metadata": {},
   "source": [
    "Find a solution. This sets the solution strategy to PATH_CHEAPEST_ARC."
   ]
  },
  {
   "cell_type": "code",
   "execution_count": 23,
   "metadata": {},
   "outputs": [],
   "source": [
    "search_parameters = pywrapcp.DefaultRoutingSearchParameters()\n",
    "search_parameters.first_solution_strategy = (\n",
    "    routing_enums_pb2.FirstSolutionStrategy.PATH_CHEAPEST_ARC\n",
    ")"
   ]
  },
  {
   "cell_type": "markdown",
   "metadata": {},
   "source": [
    "The following function prints the solution returned by the solver"
   ]
  },
  {
   "cell_type": "code",
   "execution_count": 24,
   "metadata": {},
   "outputs": [],
   "source": [
    "indices_to_names = {0:\"Depot\", 1:\"School\", 2:\"Rink\", 3:\"Grocery\", 4:\"Observatory\"}\n",
    "def print_solution(data, manager, routing, solution):\n",
    "    \"\"\"Prints solution on console.\"\"\"\n",
    "    print(f\"Objective: {solution.ObjectiveValue()}\")\n",
    "    max_route_distance = 0\n",
    "    for vehicle_id in range(data[\"num_vehicles\"]):\n",
    "        index = routing.Start(vehicle_id)\n",
    "        plan_output = f\"Route for vehicle {vehicle_id}:\\n\"\n",
    "        route_distance = 0\n",
    "        while not routing.IsEnd(index):\n",
    "\n",
    "            place = indices_to_names[manager.IndexToNode(index)]\n",
    "\n",
    "            plan_output += f\" {place} -> \"\n",
    "            previous_index = index\n",
    "            index = solution.Value(routing.NextVar(index))\n",
    "            route_distance += routing.GetArcCostForVehicle(\n",
    "                previous_index, index, vehicle_id\n",
    "            )\n",
    "        plan_output += f\"{indices_to_names[manager.IndexToNode(index)]}\\n\"\n",
    "        plan_output += f\"Distance of the route: {route_distance}m\\n\"\n",
    "        print(plan_output)\n",
    "        max_route_distance = max(route_distance, max_route_distance)\n",
    "    print(f\"Maximum of the route distances: {max_route_distance}m\")\n"
   ]
  },
  {
   "cell_type": "markdown",
   "metadata": {},
   "source": [
    "Run and solve!"
   ]
  },
  {
   "cell_type": "code",
   "execution_count": 28,
   "metadata": {},
   "outputs": [
    {
     "name": "stdout",
     "output_type": "stream",
     "text": [
      "Objective: 2048791\n",
      "Route for vehicle 0:\n",
      " Depot ->  Grocery ->  School ->  Rink -> Depot\n",
      "Distance of the route: 19802m\n",
      "\n",
      "Route for vehicle 1:\n",
      " Depot ->  Observatory -> Depot\n",
      "Distance of the route: 20089m\n",
      "\n",
      "Maximum of the route distances: 20089m\n"
     ]
    }
   ],
   "source": [
    "# Solve the problem.\n",
    "solution = routing.SolveWithParameters(search_parameters)\n",
    "\n",
    "# Print solution on console.\n",
    "if solution:\n",
    "    print_solution(data, manager, routing, solution)\n",
    "else:\n",
    "    print(\"No solution found !\")\n"
   ]
  },
  {
   "cell_type": "markdown",
   "metadata": {},
   "source": []
  },
  {
   "cell_type": "code",
   "execution_count": 26,
   "metadata": {},
   "outputs": [],
   "source": [
    "import folium"
   ]
  },
  {
   "cell_type": "code",
   "execution_count": 27,
   "metadata": {},
   "outputs": [
    {
     "data": {
      "text/html": [
       "<div style=\"width:100%;\"><div style=\"position:relative;width:100%;height:0;padding-bottom:60%;\"><span style=\"color:#565656\">Make this Notebook Trusted to load map: File -> Trust Notebook</span><iframe srcdoc=\"&lt;!DOCTYPE html&gt;\n",
       "&lt;html&gt;\n",
       "&lt;head&gt;\n",
       "    \n",
       "    &lt;meta http-equiv=&quot;content-type&quot; content=&quot;text/html; charset=UTF-8&quot; /&gt;\n",
       "    \n",
       "        &lt;script&gt;\n",
       "            L_NO_TOUCH = false;\n",
       "            L_DISABLE_3D = false;\n",
       "        &lt;/script&gt;\n",
       "    \n",
       "    &lt;style&gt;html, body {width: 100%;height: 100%;margin: 0;padding: 0;}&lt;/style&gt;\n",
       "    &lt;style&gt;#map {position:absolute;top:0;bottom:0;right:0;left:0;}&lt;/style&gt;\n",
       "    &lt;script src=&quot;https://cdn.jsdelivr.net/npm/leaflet@1.9.3/dist/leaflet.js&quot;&gt;&lt;/script&gt;\n",
       "    &lt;script src=&quot;https://code.jquery.com/jquery-3.7.1.min.js&quot;&gt;&lt;/script&gt;\n",
       "    &lt;script src=&quot;https://cdn.jsdelivr.net/npm/bootstrap@5.2.2/dist/js/bootstrap.bundle.min.js&quot;&gt;&lt;/script&gt;\n",
       "    &lt;script src=&quot;https://cdnjs.cloudflare.com/ajax/libs/Leaflet.awesome-markers/2.0.2/leaflet.awesome-markers.js&quot;&gt;&lt;/script&gt;\n",
       "    &lt;link rel=&quot;stylesheet&quot; href=&quot;https://cdn.jsdelivr.net/npm/leaflet@1.9.3/dist/leaflet.css&quot;/&gt;\n",
       "    &lt;link rel=&quot;stylesheet&quot; href=&quot;https://cdn.jsdelivr.net/npm/bootstrap@5.2.2/dist/css/bootstrap.min.css&quot;/&gt;\n",
       "    &lt;link rel=&quot;stylesheet&quot; href=&quot;https://netdna.bootstrapcdn.com/bootstrap/3.0.0/css/bootstrap.min.css&quot;/&gt;\n",
       "    &lt;link rel=&quot;stylesheet&quot; href=&quot;https://cdn.jsdelivr.net/npm/@fortawesome/fontawesome-free@6.2.0/css/all.min.css&quot;/&gt;\n",
       "    &lt;link rel=&quot;stylesheet&quot; href=&quot;https://cdnjs.cloudflare.com/ajax/libs/Leaflet.awesome-markers/2.0.2/leaflet.awesome-markers.css&quot;/&gt;\n",
       "    &lt;link rel=&quot;stylesheet&quot; href=&quot;https://cdn.jsdelivr.net/gh/python-visualization/folium/folium/templates/leaflet.awesome.rotate.min.css&quot;/&gt;\n",
       "    \n",
       "            &lt;meta name=&quot;viewport&quot; content=&quot;width=device-width,\n",
       "                initial-scale=1.0, maximum-scale=1.0, user-scalable=no&quot; /&gt;\n",
       "            &lt;style&gt;\n",
       "                #map_76088467303660c5d4e206a30685d666 {\n",
       "                    position: relative;\n",
       "                    width: 100.0%;\n",
       "                    height: 100.0%;\n",
       "                    left: 0.0%;\n",
       "                    top: 0.0%;\n",
       "                }\n",
       "                .leaflet-container { font-size: 1rem; }\n",
       "            &lt;/style&gt;\n",
       "        \n",
       "&lt;/head&gt;\n",
       "&lt;body&gt;\n",
       "    \n",
       "    \n",
       "            &lt;div class=&quot;folium-map&quot; id=&quot;map_76088467303660c5d4e206a30685d666&quot; &gt;&lt;/div&gt;\n",
       "        \n",
       "&lt;/body&gt;\n",
       "&lt;script&gt;\n",
       "    \n",
       "    \n",
       "            var map_76088467303660c5d4e206a30685d666 = L.map(\n",
       "                &quot;map_76088467303660c5d4e206a30685d666&quot;,\n",
       "                {\n",
       "                    center: [43.09557209600966, -89.50436892925059],\n",
       "                    crs: L.CRS.EPSG3857,\n",
       "                    zoom: 13,\n",
       "                    zoomControl: true,\n",
       "                    preferCanvas: false,\n",
       "                }\n",
       "            );\n",
       "\n",
       "            \n",
       "\n",
       "        \n",
       "    \n",
       "            var tile_layer_d80166d41513318e2e2d1664a949121c = L.tileLayer(\n",
       "                &quot;https://cartodb-basemaps-{s}.global.ssl.fastly.net/light_all/{z}/{x}/{y}.png&quot;,\n",
       "                {&quot;attribution&quot;: &quot;\\u0026copy; \\u003ca target=\\&quot;_blank\\&quot; href=\\&quot;http://www.openstreetmap.org/copyright\\&quot;\\u003eOpenStreetMap\\u003c/a\\u003e contributors \\u0026copy; \\u003ca target=\\&quot;_blank\\&quot; href=\\&quot;http://cartodb.com/attributions\\&quot;\\u003eCartoDB\\u003c/a\\u003e, CartoDB \\u003ca target=\\&quot;_blank\\&quot; href =\\&quot;http://cartodb.com/attributions\\&quot;\\u003eattributions\\u003c/a\\u003e&quot;, &quot;detectRetina&quot;: false, &quot;maxNativeZoom&quot;: 18, &quot;maxZoom&quot;: 18, &quot;minZoom&quot;: 0, &quot;noWrap&quot;: false, &quot;opacity&quot;: 1, &quot;subdomains&quot;: &quot;abc&quot;, &quot;tms&quot;: false}\n",
       "            );\n",
       "        \n",
       "    \n",
       "                tile_layer_d80166d41513318e2e2d1664a949121c.addTo(map_76088467303660c5d4e206a30685d666);\n",
       "    \n",
       "            var marker_5d6ee914c878856de223c6641c368bdf = L.marker(\n",
       "                [43.09556864914019, -89.50931047510767],\n",
       "                {}\n",
       "            ).addTo(map_76088467303660c5d4e206a30685d666);\n",
       "        \n",
       "    \n",
       "            var marker_033a48370f8f069ed1d71f2e557bb3a3 = L.marker(\n",
       "                [43.10058814207571, -89.50747701928485],\n",
       "                {}\n",
       "            ).addTo(map_76088467303660c5d4e206a30685d666);\n",
       "        \n",
       "    \n",
       "            var marker_a169d547603d1d5b00564f71abd87b26 = L.marker(\n",
       "                [43.10481616845111, -89.53681317510716],\n",
       "                {}\n",
       "            ).addTo(map_76088467303660c5d4e206a30685d666);\n",
       "        \n",
       "    \n",
       "            var marker_c6296ecb2179769279d572fc839b7eaf = L.marker(\n",
       "                [43.0766193182772, -89.44951351743772],\n",
       "                {}\n",
       "            ).addTo(map_76088467303660c5d4e206a30685d666);\n",
       "        \n",
       "    \n",
       "            var marker_e2a6da10ed3ed511bb84934d0ad76fbd = L.marker(\n",
       "                [43.07628461311108, -89.40896345976672],\n",
       "                {}\n",
       "            ).addTo(map_76088467303660c5d4e206a30685d666);\n",
       "        \n",
       "&lt;/script&gt;\n",
       "&lt;/html&gt;\" style=\"position:absolute;width:100%;height:100%;left:0;top:0;border:none !important;\" allowfullscreen webkitallowfullscreen mozallowfullscreen></iframe></div></div>"
      ],
      "text/plain": [
       "<folium.folium.Map at 0x21e6f210950>"
      ]
     },
     "execution_count": 27,
     "metadata": {},
     "output_type": "execute_result"
    }
   ],
   "source": [
    "coords = [[43.09556864914019, -89.50931047510767], # depot\n",
    "          [43.10058814207571, -89.50747701928485], # school\n",
    "          [43.10481616845111, -89.53681317510716], # rink\n",
    "          [43.0766193182772, -89.44951351743772], # store\n",
    "          [43.07628461311108, -89.40896345976672] # observatory             \n",
    "          ]\n",
    "\n",
    "m = folium.Map(location=list([43.09557209600966, -89.50436892925059]), tiles=\"cartodbpositron\", zoom_start=13)\n",
    "for coord in coords:\n",
    "    folium.Marker(location=coord).add_to(m)\n",
    "m\n"
   ]
  }
 ],
 "metadata": {
  "kernelspec": {
   "display_name": "Snowplow-Routing",
   "language": "python",
   "name": "python3"
  },
  "language_info": {
   "codemirror_mode": {
    "name": "ipython",
    "version": 3
   },
   "file_extension": ".py",
   "mimetype": "text/x-python",
   "name": "python",
   "nbconvert_exporter": "python",
   "pygments_lexer": "ipython3",
   "version": "3.11.4"
  }
 },
 "nbformat": 4,
 "nbformat_minor": 2
}
