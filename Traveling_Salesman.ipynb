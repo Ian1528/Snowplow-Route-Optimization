{
  "cells": [
    {
      "cell_type": "markdown",
      "metadata": {
        "id": "TfjOevb3Me1N"
      },
      "source": [
        "# Traveling Salesman Problem - Toy Model"
      ]
    },
    {
      "cell_type": "markdown",
      "metadata": {
        "id": "MFYVRYP6RHYd"
      },
      "source": [
        "## Assumptions:\n",
        "\n",
        "\n",
        "\n",
        "*   Undirected graph\n",
        "*   Triangle Inequality: Path from A->C is shorter than A->B->C\n",
        "\n"
      ]
    },
    {
      "cell_type": "markdown",
      "metadata": {
        "id": "c_1UiZB1UXQc"
      },
      "source": [
        "First Solution: Using mlrose (see [this website](https://towardsdatascience.com/solving-travelling-salesperson-problems-with-python-5de7e883d847) )"
      ]
    },
    {
      "cell_type": "code",
      "execution_count": 1,
      "metadata": {
        "colab": {
          "base_uri": "https://localhost:8080/",
          "height": 729
        },
        "id": "QqJGqzNHMUCJ",
        "outputId": "22926c8a-80b4-47aa-a123-85bf0744c145"
      },
      "outputs": [],
      "source": [
        "import six\n",
        "import sys\n",
        "sys.modules['sklearn.externals.six'] = six\n",
        "\n",
        "import mlrose\n",
        "import numpy as np"
      ]
    },
    {
      "cell_type": "markdown",
      "metadata": {},
      "source": [
        "### Define a Fitness Function Object\n",
        "\n",
        "For the TSP in the example, the goal is to find the shortest tour of the eight cities. As a result, the fitness function should calculate the total length of a given tour. This is the fitness definition used in mlrose’s pre-defined TravellingSales() class.\n",
        "\n",
        "The TSPOpt() optimization problem class assumes, by default, that the TravellingSales() class is used to define the fitness function for a TSP. As a result, if the TravellingSales() class is to be used to define the fitness function object, then this step can be skipped. However, it is also possible to manually define the fitness function object, if so desired.\n",
        "\n",
        "To initialize a fitness function object for the TravellingSales() class, it is necessary to specify either the (x, y) coordinates of all the cities or the distances between each pair of cities for which travel is possible. If the former is specified, then it is assumed that travel between each pair of cities is possible.\n",
        "\n",
        "If we choose to specify the coordinates, then these should be input as an ordered list of pairs (where pair i specifies the coordinates of city i), as follows:\n",
        "\n"
      ]
    },
    {
      "cell_type": "code",
      "execution_count": 2,
      "metadata": {
        "id": "L9lTab4DMdee"
      },
      "outputs": [],
      "source": [
        "# Create list of city coordinates\n",
        "coords_list = [(1, 1), (4, 2), (5, 2), (6, 4), (4, 4), (3, 6), (1, 5), (2, 3)]\n",
        "\n",
        "# Initialize fitness function object using coords_list\n",
        "fitness_coords = mlrose.TravellingSales(coords = coords_list)\n"
      ]
    },
    {
      "cell_type": "markdown",
      "metadata": {},
      "source": [
        "Alternatively, if we choose to specity the distances, then these should be input as a list of triples giving the distances, d, between all pairs of cities, u and v, for which travel is possible, with each triple in the form (u, v, d). The order in which the cities is specified does not matter (i.e., the distance between cities 1 and 2 is assumed to be the same as the distance between cities 2 and 1), and so each pair of cities need only be included in the list once.\n",
        "\n",
        "Using the distance approach, the fitness function object can be initialize as follows:\n",
        "\n",
        "We can manually set distances as follows:"
      ]
    },
    {
      "cell_type": "code",
      "execution_count": 3,
      "metadata": {},
      "outputs": [],
      "source": [
        "# Create list of distances between pairs of cities\n",
        "dist_list = [(0, 1, 3.1623), (0, 2, 4.1231), (0, 3, 5.8310), (0, 4, 4.2426), \\\n",
        "             (0, 5, 5.3852), (0, 6, 4.0000), (0, 7, 2.2361), (1, 2, 1.0000), \\\n",
        "             (1, 3, 2.8284), (1, 4, 2.0000), (1, 5, 4.1231), (1, 6, 4.2426), \\\n",
        "             (1, 7, 2.2361), (2, 3, 2.2361), (2, 4, 2.2361), (2, 5, 4.4721), \\\n",
        "             (2, 6, 5.0000), (2, 7, 3.1623), (3, 4, 2.0000), (3, 5, 3.6056), \\\n",
        "             (3, 6, 5.0990), (3, 7, 4.1231), (4, 5, 2.2361), (4, 6, 3.1623), \\\n",
        "             (4, 7, 2.2361), (5, 6, 2.2361), (5, 7, 3.1623), (6, 7, 2.2361)]\n",
        "\n",
        "# Initialize fitness function object using dist_list\n",
        "fitness_dists = mlrose.TravellingSales(distances = dist_list)"
      ]
    },
    {
      "cell_type": "markdown",
      "metadata": {},
      "source": [
        "As mentioned previously, the most efficient approach to solving a TSP in mlrose is to define the optimization problem object using the TSPOpt() optimization problem class.\n",
        "\n",
        "If a fitness function has already been manually defined, as demonstrated in the previous step, then the only additional information required to initialize a TSPOpt() object are the length of the problem (i.e. the number of cities to be visited on the tour) and whether our problem is a maximization or a minimization problem.\n",
        "\n",
        "In our example, we want to solve a minimization problem of length 8. If we use the fitness_coords fitness function defined above, we can define an optimization problem object as follows:\n",
        "\n"
      ]
    },
    {
      "cell_type": "markdown",
      "metadata": {},
      "source": [
        "Here I define the TSPOpt object with the manually defined distances"
      ]
    },
    {
      "cell_type": "code",
      "execution_count": 4,
      "metadata": {},
      "outputs": [],
      "source": [
        "# Define optimization problem object\n",
        "problem_fit = mlrose.TSPOpt(length = 8, fitness_fn = fitness_dists, maximize=False)\n"
      ]
    },
    {
      "cell_type": "markdown",
      "metadata": {},
      "source": [
        "Once the optimization object is defined, all that is left to do is to select a randomized optimization algorithm and use it to solve our problem.\n",
        "\n",
        "This time, suppose we wish to use the genetic algorithms with the default parameter settings of a population size (pop_size) of 200, a mutation probability (mutation_prob) of 0.1, a maximum of 10 attempts per step (max_attempts) and no limit on the maximum total number of iteration of the algorithm (max_iters). This returns the following solution:\n",
        "\n"
      ]
    },
    {
      "cell_type": "code",
      "execution_count": 5,
      "metadata": {},
      "outputs": [
        {
          "name": "stdout",
          "output_type": "stream",
          "text": [
            "[1 3 4 5 6 7 0 2]\n",
            "18.8959\n"
          ]
        }
      ],
      "source": [
        "# Solve problem using the genetic algorithm\n",
        "best_state, best_fitness = mlrose.genetic_alg(problem_fit, random_state = 2)\n",
        "\n",
        "print(best_state)\n",
        "\n",
        "print(best_fitness)\n"
      ]
    },
    {
      "cell_type": "markdown",
      "metadata": {},
      "source": [
        "Further improvements can be made by tuning the parameters of the optimization algorithm:"
      ]
    },
    {
      "cell_type": "code",
      "execution_count": 6,
      "metadata": {},
      "outputs": [
        {
          "name": "stdout",
          "output_type": "stream",
          "text": [
            "[7 6 5 4 3 2 1 0]\n",
            "17.3428\n"
          ]
        }
      ],
      "source": [
        "# Solve problem using the genetic algorithm\n",
        "best_state, best_fitness = mlrose.genetic_alg(problem_fit, mutation_prob = 0.2,\n",
        "                                              max_attempts = 100, random_state = 2)\n",
        "\n",
        "print(best_state)\n",
        "\n",
        "print(best_fitness)\n"
      ]
    }
  ],
  "metadata": {
    "colab": {
      "provenance": []
    },
    "kernelspec": {
      "display_name": "Python 3",
      "name": "python3"
    },
    "language_info": {
      "codemirror_mode": {
        "name": "ipython",
        "version": 3
      },
      "file_extension": ".py",
      "mimetype": "text/x-python",
      "name": "python",
      "nbconvert_exporter": "python",
      "pygments_lexer": "ipython3",
      "version": "3.11.4"
    }
  },
  "nbformat": 4,
  "nbformat_minor": 0
}
